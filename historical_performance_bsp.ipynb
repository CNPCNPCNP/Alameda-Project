{
 "cells": [
  {
   "attachments": {},
   "cell_type": "markdown",
   "metadata": {},
   "source": [
    "## How good is the BSP - Historical performance"
   ]
  },
  {
   "attachments": {},
   "cell_type": "markdown",
   "metadata": {},
   "source": [
    "**Import relevant packages**"
   ]
  },
  {
   "cell_type": "code",
   "execution_count": 8,
   "metadata": {},
   "outputs": [],
   "source": [
    "# import packages\n",
    "import pandas as pd\n",
    "import numpy as np\n",
    "import datetime\n",
    "import os\n",
    "import shin\n",
    "import matplotlib.pyplot as plt\n",
    "from selenium import webdriver\n",
    "from selenium.common.exceptions import NoSuchElementException\n",
    "from selenium.webdriver.common.by import By\n",
    "from selenium.webdriver.chrome.options import Options\n",
    "from selenium.webdriver.chrome.service import Service\n"
   ]
  },
  {
   "attachments": {},
   "cell_type": "markdown",
   "metadata": {},
   "source": [
    "**Import data**: Import and save all manually downloaded csvs of Betfair historical data in a dictionary - our analysis will loop through the csvs and perform the calcs"
   ]
  },
  {
   "cell_type": "code",
   "execution_count": 9,
   "metadata": {},
   "outputs": [],
   "source": [
    "# lets download every csv from the folder_path and name is a different name:\n",
    "folder_path = 'C:\\\\Users\\\\bened\\\\Documents\\\\Alameda-Project\\\\betfair_historical_data' #need to update to your project folder if you want to run\n",
    "# we need to get a list of all the files in the folder:\n",
    "file_list = os.listdir(folder_path)\n",
    "# we need to define an empty list to store the dataframes:\n",
    "df_list = []\n",
    "# we need to iterate through the list of files and read each file into a dataframe:\n",
    "for file in file_list:\n",
    "    # we need to define the path to the file:\n",
    "    file_path = folder_path + '\\\\' + file\n",
    "    # we need to read the csv file into a dataframe:\n",
    "    df = pd.read_csv(file_path)\n",
    "    # we need to append the dataframe to the list of dataframes:\n",
    "    df_list.append(df)\n",
    "# lets write a loop to go through each element of df_list and return the element saved as a unique name:\n",
    "df_dict = {}\n",
    "for i in range(len(df_list)):\n",
    "    # we need to define the name of the dataframe as a string:\n",
    "    name = 'df' + str(i)\n",
    "    # we need to store the dataframe in a dictionary with its name as the key:\n",
    "    df_dict[name] = df_list[i]"
   ]
  },
  {
   "attachments": {},
   "cell_type": "markdown",
   "metadata": {},
   "source": [
    "**Define useful functions**"
   ]
  },
  {
   "cell_type": "code",
   "execution_count": 10,
   "metadata": {},
   "outputs": [],
   "source": [
    "#lets write a function that takes one of our dataframes as input and returns the total winnings from betting $1 on every horse:\n",
    "def total_winnings(df):\n",
    "    # We add a column that multiplies 1 * BSP if the horse won the race using a list comprehension:\n",
    "    df['IMPLIED_PROB_WIN'] = np.where(df['WIN_LOSE'] == 1, 0.95 * (1 * df['BSP']), -1)\n",
    "    # Now we need to sum the IMPLIED_PROB_WIN column for the entire dataframe:\n",
    "    total_winnings = df['IMPLIED_PROB_WIN'].sum()\n",
    "    return total_winnings\n",
    "\n",
    "# lets write a function that takes one of our dataframes as input and returns how many unique EVENT_IDs there are:\n",
    "def total_races(df):\n",
    "    # We need to find the number of unique EVENT_IDs in the dataframe:\n",
    "    total_r = df['EVENT_ID'].nunique()\n",
    "    return total_r\n",
    "\n",
    "# lets write a function that takes one of our dataframes and returns the cumulative implied probs for each race:\n",
    "def cumulative_implied_probs(df):\n",
    "    # let's make a column that calculates the implied odds\n",
    "    df['BASE_IMPLIED_PROBS'] = (1 / df['BSP'])\n",
    "    # we need to group the dataframe by EVENT_ID and sum the IMPLIED_PROB_WIN column:\n",
    "    RACE_CUMULATIVE_PROBS = df.groupby('EVENT_ID').sum('BASE_IMPLIED_PROBS')['BASE_IMPLIED_PROBS']\n",
    "    # we need to return the dataframe:\n",
    "    return RACE_CUMULATIVE_PROBS\n",
    "\n",
    "def implied_v_actuals(df):\n",
    "    BASE_IMPLIED_PROBS = (1 / df['BSP'])\n",
    "    WIN_LOSE = df['WIN_LOSE']\n",
    "    df_implied_actuals = pd.DataFrame({'BASE_IMPLIED_PROBS': BASE_IMPLIED_PROBS, 'WIN_LOSE': WIN_LOSE})\n",
    "    return df_implied_actuals\n",
    "    \n",
    "def grouping(row):\n",
    "    if row['BASE_IMPLIED_PROBS'] < 0.1:\n",
    "        return '0.1'\n",
    "    elif row['BASE_IMPLIED_PROBS'] < 0.2:\n",
    "        return '0.2'\n",
    "    elif row['BASE_IMPLIED_PROBS'] < 0.3:\n",
    "        return '0.3'\n",
    "    elif row['BASE_IMPLIED_PROBS'] < 0.4:\n",
    "        return '0.4'\n",
    "    elif row['BASE_IMPLIED_PROBS'] < 0.5:\n",
    "        return '0.5'\n",
    "    elif row['BASE_IMPLIED_PROBS'] < 0.6:\n",
    "        return '0.6'\n",
    "    elif row['BASE_IMPLIED_PROBS'] < 0.7:\n",
    "        return '0.7'\n",
    "    elif row['BASE_IMPLIED_PROBS'] < 0.8:\n",
    "        return '0.8'\n",
    "    elif row['BASE_IMPLIED_PROBS'] < 0.9:\n",
    "        return '0.9'\n",
    "    elif row['BASE_IMPLIED_PROBS'] < 1:\n",
    "        return '1'"
   ]
  },
  {
   "attachments": {},
   "cell_type": "markdown",
   "metadata": {},
   "source": [
    "**Apply functions to data**: Loop through each dataframe csv and apply functions - finally calculating the total winnings (if you bet $1, on every horse) and sample size of races. "
   ]
  },
  {
   "cell_type": "code",
   "execution_count": 11,
   "metadata": {},
   "outputs": [],
   "source": [
    "# lets loop through each value of dict, applying our functions:\n",
    "total_races_list = []\n",
    "total_winnings_list = []\n",
    "total_cumulative_probs_list = []\n",
    "\n",
    "for v in df_dict.values():\n",
    "    # append the results to the list:\n",
    "    tw = total_winnings(v)\n",
    "    tr = total_races(v)\n",
    "    tcp = cumulative_implied_probs(v)\n",
    "    #append tw to total_winnings:\n",
    "    total_winnings_list.append(tw)\n",
    "    total_races_list.append(tr)\n",
    "    total_cumulative_probs_list.append(tcp)"
   ]
  },
  {
   "cell_type": "code",
   "execution_count": 12,
   "metadata": {},
   "outputs": [],
   "source": [
    "df_bsp_how_good = []\n",
    "for v in df_dict.values():\n",
    "    nuisance_df = implied_v_actuals(v)\n",
    "    df_bsp_how_good.append(nuisance_df)\n",
    "df_bsp_how_good = pd.concat(df_bsp_how_good)"
   ]
  },
  {
   "cell_type": "code",
   "execution_count": 15,
   "metadata": {},
   "outputs": [
    {
     "name": "stdout",
     "output_type": "stream",
     "text": [
      "Table of sample sizes for each group:\n",
      "       BASE_IMPLIED_PROBS  WIN_LOSE\n",
      "Group                              \n",
      "0.1                 12997     12997\n",
      "0.2                  4416      4416\n",
      "0.3                  2058      2058\n",
      "0.4                   898       898\n",
      "0.5                   404       404\n",
      "0.6                   222       222\n",
      "0.7                   113       113\n",
      "0.8                    65        65\n",
      "0.9                    28        28\n",
      "1                       4         4\n"
     ]
    },
    {
     "data": {
      "image/png": "[encoded data removed]",
      "text/plain": [
       "<Figure size 640x480 with 1 Axes>"
      ]
     },
     "metadata": {},
     "output_type": "display_data"
    }
   ],
   "source": [
    "df_bsp_how_good['Group'] = df_bsp_how_good.apply(grouping, axis=1)\n",
    "actuals_v_implied = df_bsp_how_good.groupby('Group').mean()\n",
    "#lets count the numbers from each group:\n",
    "sample_sizes = df_bsp_how_good.groupby('Group').count()\n",
    "\n",
    "print('Table of sample sizes for each group:')\n",
    "print(sample_sizes)\n",
    "plt.scatter(actuals_v_implied['BASE_IMPLIED_PROBS'], actuals_v_implied['WIN_LOSE'])\n",
    "#draw 45 degree line:\n",
    "plt.plot([0,1], [0,1], color='red')\n",
    "#add x and y labels:\n",
    "plt.xlabel('BSP implied probability')\n",
    "plt.ylabel('Actual probability')\n",
    "plt.legend(['Implied v Actuals','if BSP = Actual prob'])\n",
    "plt.show()\n"
   ]
  },
  {
   "cell_type": "code",
   "execution_count": 7,
   "metadata": {},
   "outputs": [
    {
     "data": {
      "text/html": [
       "<div>\n",
       "<style scoped>\n",
       "    .dataframe tbody tr th:only-of-type {\n",
       "        vertical-align: middle;\n",
       "    }\n",
       "\n",
       "    .dataframe tbody tr th {\n",
       "        vertical-align: top;\n",
       "    }\n",
       "\n",
       "    .dataframe thead th {\n",
       "        text-align: right;\n",
       "    }\n",
       "</style>\n",
       "<table border=\"1\" class=\"dataframe\">\n",
       "  <thead>\n",
       "    <tr style=\"text-align: right;\">\n",
       "      <th></th>\n",
       "      <th>BASE_IMPLIED_PROBS</th>\n",
       "      <th>WIN_LOSE</th>\n",
       "    </tr>\n",
       "    <tr>\n",
       "      <th>Group</th>\n",
       "      <th></th>\n",
       "      <th></th>\n",
       "    </tr>\n",
       "  </thead>\n",
       "  <tbody>\n",
       "    <tr>\n",
       "      <th>0.1</th>\n",
       "      <td>0.038237</td>\n",
       "      <td>0.038086</td>\n",
       "    </tr>\n",
       "    <tr>\n",
       "      <th>0.2</th>\n",
       "      <td>0.141163</td>\n",
       "      <td>0.138813</td>\n",
       "    </tr>\n",
       "    <tr>\n",
       "      <th>0.3</th>\n",
       "      <td>0.243259</td>\n",
       "      <td>0.249271</td>\n",
       "    </tr>\n",
       "    <tr>\n",
       "      <th>0.4</th>\n",
       "      <td>0.343564</td>\n",
       "      <td>0.345212</td>\n",
       "    </tr>\n",
       "    <tr>\n",
       "      <th>0.5</th>\n",
       "      <td>0.446714</td>\n",
       "      <td>0.438119</td>\n",
       "    </tr>\n",
       "    <tr>\n",
       "      <th>0.6</th>\n",
       "      <td>0.547875</td>\n",
       "      <td>0.540541</td>\n",
       "    </tr>\n",
       "    <tr>\n",
       "      <th>0.7</th>\n",
       "      <td>0.645533</td>\n",
       "      <td>0.592920</td>\n",
       "    </tr>\n",
       "    <tr>\n",
       "      <th>0.8</th>\n",
       "      <td>0.741165</td>\n",
       "      <td>0.784615</td>\n",
       "    </tr>\n",
       "    <tr>\n",
       "      <th>0.9</th>\n",
       "      <td>0.842874</td>\n",
       "      <td>0.928571</td>\n",
       "    </tr>\n",
       "    <tr>\n",
       "      <th>1</th>\n",
       "      <td>0.921793</td>\n",
       "      <td>1.000000</td>\n",
       "    </tr>\n",
       "  </tbody>\n",
       "</table>\n",
       "</div>"
      ],
      "text/plain": [
       "       BASE_IMPLIED_PROBS  WIN_LOSE\n",
       "Group                              \n",
       "0.1              0.038237  0.038086\n",
       "0.2              0.141163  0.138813\n",
       "0.3              0.243259  0.249271\n",
       "0.4              0.343564  0.345212\n",
       "0.5              0.446714  0.438119\n",
       "0.6              0.547875  0.540541\n",
       "0.7              0.645533  0.592920\n",
       "0.8              0.741165  0.784615\n",
       "0.9              0.842874  0.928571\n",
       "1                0.921793  1.000000"
      ]
     },
     "execution_count": 7,
     "metadata": {},
     "output_type": "execute_result"
    }
   ],
   "source": [
    "actuals_v_implied = df_bsp_how_good.groupby('Group').mean()\n",
    "actuals_v_implied"
   ]
  },
  {
   "attachments": {},
   "cell_type": "markdown",
   "metadata": {},
   "source": [
    "**Plot key results**"
   ]
  },
  {
   "cell_type": "code",
   "execution_count": 247,
   "metadata": {},
   "outputs": [
    {
     "data": {
      "text/plain": [
       "Text(0.5, 0, 'Race day winnings from $1 on every horse')"
      ]
     },
     "execution_count": 247,
     "metadata": {},
     "output_type": "execute_result"
    },
    {
     "data": {
      "image/png": "[encoded data removed]",
      "text/plain": [
       "<Figure size 640x480 with 1 Axes>"
      ]
     },
     "metadata": {},
     "output_type": "display_data"
    }
   ],
   "source": [
    "print(f'total winnings of betting $1 on every horse: {sum(total_winnings_list)}, from a sample of {sum(total_races_list)} races')\n",
    "\n",
    "plt.hist(total_winnings_list, bins = 30)  \n",
    "plt.ylabel('Frequency')\n",
    "plt.xlabel('Race day winnings from $1 on every horse')"
   ]
  },
  {
   "attachments": {},
   "cell_type": "markdown",
   "metadata": {},
   "source": [
    "For every horse we have calculated the implied probability of winning from the BSP (simply 1 / BSP), then we add these up for every race. Below is a histogram of the frequencies of the cumulative race probability for every race."
   ]
  },
  {
   "cell_type": "code",
   "execution_count": 242,
   "metadata": {},
   "outputs": [
    {
     "name": "stdout",
     "output_type": "stream",
     "text": [
      "mean: 1.005161581344823, Error / SD of below is: 0.013965047716924053, from a sample of 2366 races\n"
     ]
    },
    {
     "data": {
      "image/png": "[encoded data removed]",
      "text/plain": [
       "<Figure size 640x480 with 1 Axes>"
      ]
     },
     "metadata": {},
     "output_type": "display_data"
    }
   ],
   "source": [
    "total_cumulative_probs_list = total_cumulative_probs_list[0].astype(float)\n",
    "plt.hist(total_cumulative_probs_list, bins = 30)  \n",
    "plt.ylabel('Frequency')\n",
    "plt.xlabel('Cumulative Race Probability')\n",
    "\n",
    "#let's calculate the standard deviation of the list:\n",
    "sd = np.std(total_cumulative_probs_list)\n",
    "mean = np.mean(total_cumulative_probs_list)\n",
    "print(f'mean: {mean}, Error / SD of below is: {sd}, from a sample of {sum(total_races_list)} races')"
   ]
  },
  {
   "attachments": {},
   "cell_type": "markdown",
   "metadata": {},
   "source": [
    "Below is Ben playing around"
   ]
  },
  {
   "cell_type": "code",
   "execution_count": null,
   "metadata": {},
   "outputs": [],
   "source": []
  }
 ],
 "metadata": {
  "kernelspec": {
   "display_name": "Python 3.9.13 64-bit (microsoft store)",
   "language": "python",
   "name": "python3"
  },
  "language_info": {
   "codemirror_mode": {
    "name": "ipython",
    "version": 3
   },
   "file_extension": ".py",
   "mimetype": "text/x-python",
   "name": "python",
   "nbconvert_exporter": "python",
   "pygments_lexer": "ipython3",
   "version": "3.9.13 (tags/v3.9.13:6de2ca5, May 17 2022, 16:36:42) [MSC v.1929 64 bit (AMD64)]"
  },
  "orig_nbformat": 4,
  "vscode": {
   "interpreter": {
    "hash": "df7e380dc4bd12358531d9bb750d42cf6bcb6b53243542dabce030e1bc638fb8"
   }
  }
 },
 "nbformat": 4,
 "nbformat_minor": 2
}
