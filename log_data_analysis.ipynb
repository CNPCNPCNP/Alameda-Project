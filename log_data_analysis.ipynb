{
 "cells": [
  {
   "cell_type": "code",
   "execution_count": 19,
   "metadata": {},
   "outputs": [],
   "source": [
    "# import data packages\n",
    "import pandas as pd\n",
    "import numpy as np\n",
    "import datetime\n",
    "import matplotlib as plt \n",
    "from analysis import *"
   ]
  },
  {
   "cell_type": "code",
   "execution_count": 20,
   "metadata": {},
   "outputs": [],
   "source": [
    "# let's make the index of betfair_data it's own column:\n",
    "betfair_data.reset_index(inplace=True)\n",
    "#let's rename columns in the betfair_data dataframe - SELECTION_NAME will become horses:\n",
    "betfair_data.rename(columns={'SELECTION_NAME': 'Horse'}, inplace=True)\n",
    "# let's rename the Event ID column in all_bets to EVENT_ID:\n",
    "all_bets.rename(columns={'Event ID': 'EVENT_ID'}, inplace=True)\n",
    "#let's remove the rows with NAN in Event_ID:\n",
    "all_bets.dropna(subset=['EVENT_ID'], inplace=True)\n",
    "betfair_data.dropna(subset=['EVENT_ID'], inplace=True)\n",
    "# let's make the joining columns all the same datatypes:\n",
    "all_bets['EVENT_ID'] = all_bets['EVENT_ID'].astype(int)\n",
    "betfair_data['EVENT_ID'] = betfair_data['EVENT_ID'].astype(int)\n",
    "all_bets['Horse'] = all_bets['Horse'].astype(str)\n",
    "betfair_data['Horse'] = betfair_data['Horse'].astype(str)"
   ]
  },
  {
   "cell_type": "code",
   "execution_count": 33,
   "metadata": {},
   "outputs": [
    {
     "data": {
      "text/html": [
       "<div>\n",
       "<style scoped>\n",
       "    .dataframe tbody tr th:only-of-type {\n",
       "        vertical-align: middle;\n",
       "    }\n",
       "\n",
       "    .dataframe tbody tr th {\n",
       "        vertical-align: top;\n",
       "    }\n",
       "\n",
       "    .dataframe thead th {\n",
       "        text-align: right;\n",
       "    }\n",
       "</style>\n",
       "<table border=\"1\" class=\"dataframe\">\n",
       "  <thead>\n",
       "    <tr style=\"text-align: right;\">\n",
       "      <th></th>\n",
       "      <th>Horse</th>\n",
       "      <th>Type</th>\n",
       "      <th>Location</th>\n",
       "      <th>Price</th>\n",
       "      <th>Midpoint Price</th>\n",
       "      <th>EVENT_ID</th>\n",
       "      <th>Venue</th>\n",
       "      <th>Race Number</th>\n",
       "      <th>Midpoint Percentage</th>\n",
       "    </tr>\n",
       "  </thead>\n",
       "  <tbody>\n",
       "    <tr>\n",
       "      <th>05-01-2023 19:07:41</th>\n",
       "      <td>Becks Monelli</td>\n",
       "      <td>RaceType.GREYHOUND_RACE</td>\n",
       "      <td>AUS</td>\n",
       "      <td>1.55</td>\n",
       "      <td>1.548889</td>\n",
       "      <td>32001967</td>\n",
       "      <td>Angle Park</td>\n",
       "      <td>4</td>\n",
       "      <td>0.999283</td>\n",
       "    </tr>\n",
       "  </tbody>\n",
       "</table>\n",
       "</div>"
      ],
      "text/plain": [
       "                             Horse                     Type Location  Price  \\\n",
       "05-01-2023 19:07:41  Becks Monelli  RaceType.GREYHOUND_RACE      AUS   1.55   \n",
       "\n",
       "                     Midpoint Price  EVENT_ID       Venue Race Number  \\\n",
       "05-01-2023 19:07:41        1.548889  32001967  Angle Park           4   \n",
       "\n",
       "                     Midpoint Percentage  \n",
       "05-01-2023 19:07:41             0.999283  "
      ]
     },
     "execution_count": 33,
     "metadata": {},
     "output_type": "execute_result"
    }
   ],
   "source": [
    "# lets select a subset of all_bets to work with:\n",
    "test_all_bets = all_bets.loc[all_bets['EVENT_ID'] == 32001967]\n",
    "test_all_bets"
   ]
  },
  {
   "cell_type": "code",
   "execution_count": 35,
   "metadata": {},
   "outputs": [
    {
     "data": {
      "text/html": [
       "<div>\n",
       "<style scoped>\n",
       "    .dataframe tbody tr th:only-of-type {\n",
       "        vertical-align: middle;\n",
       "    }\n",
       "\n",
       "    .dataframe tbody tr th {\n",
       "        vertical-align: top;\n",
       "    }\n",
       "\n",
       "    .dataframe thead th {\n",
       "        text-align: right;\n",
       "    }\n",
       "</style>\n",
       "<table border=\"1\" class=\"dataframe\">\n",
       "  <thead>\n",
       "    <tr style=\"text-align: right;\">\n",
       "      <th></th>\n",
       "      <th>index</th>\n",
       "      <th>EVENT_ID</th>\n",
       "      <th>EVENT_DT</th>\n",
       "      <th>Horse</th>\n",
       "      <th>WIN_LOSE</th>\n",
       "      <th>BSP</th>\n",
       "    </tr>\n",
       "  </thead>\n",
       "  <tbody>\n",
       "  </tbody>\n",
       "</table>\n",
       "</div>"
      ],
      "text/plain": [
       "Empty DataFrame\n",
       "Columns: [index, EVENT_ID, EVENT_DT, Horse, WIN_LOSE, BSP]\n",
       "Index: []"
      ]
     },
     "execution_count": 35,
     "metadata": {},
     "output_type": "execute_result"
    }
   ],
   "source": [
    "test_betfair = betfair_data.loc[betfair_data['EVENT_ID'] == 32001967]\n",
    "test_betfair"
   ]
  },
  {
   "cell_type": "code",
   "execution_count": 26,
   "metadata": {},
   "outputs": [
    {
     "name": "stdout",
     "output_type": "stream",
     "text": [
      "[nan]\n"
     ]
    },
    {
     "data": {
      "text/html": [
       "<div>\n",
       "<style scoped>\n",
       "    .dataframe tbody tr th:only-of-type {\n",
       "        vertical-align: middle;\n",
       "    }\n",
       "\n",
       "    .dataframe tbody tr th {\n",
       "        vertical-align: top;\n",
       "    }\n",
       "\n",
       "    .dataframe thead th {\n",
       "        text-align: right;\n",
       "    }\n",
       "</style>\n",
       "<table border=\"1\" class=\"dataframe\">\n",
       "  <thead>\n",
       "    <tr style=\"text-align: right;\">\n",
       "      <th></th>\n",
       "      <th>Horse</th>\n",
       "      <th>Type</th>\n",
       "      <th>Location</th>\n",
       "      <th>Price</th>\n",
       "      <th>Midpoint Price</th>\n",
       "      <th>EVENT_ID</th>\n",
       "      <th>Venue</th>\n",
       "      <th>Race Number</th>\n",
       "      <th>Midpoint Percentage</th>\n",
       "      <th>index</th>\n",
       "      <th>EVENT_DT</th>\n",
       "      <th>WIN_LOSE</th>\n",
       "      <th>BSP</th>\n",
       "    </tr>\n",
       "  </thead>\n",
       "  <tbody>\n",
       "    <tr>\n",
       "      <th>0</th>\n",
       "      <td>Becks Monelli</td>\n",
       "      <td>RaceType.GREYHOUND_RACE</td>\n",
       "      <td>AUS</td>\n",
       "      <td>1.55</td>\n",
       "      <td>1.548889</td>\n",
       "      <td>32001967</td>\n",
       "      <td>Angle Park</td>\n",
       "      <td>4</td>\n",
       "      <td>0.999283</td>\n",
       "      <td>NaN</td>\n",
       "      <td>NaN</td>\n",
       "      <td>NaN</td>\n",
       "      <td>NaN</td>\n",
       "    </tr>\n",
       "    <tr>\n",
       "      <th>1</th>\n",
       "      <td>Americas Woman</td>\n",
       "      <td>RaceType.HORSE_RACE</td>\n",
       "      <td>USA</td>\n",
       "      <td>8.00</td>\n",
       "      <td>7.411111</td>\n",
       "      <td>32003101</td>\n",
       "      <td>Charles Town</td>\n",
       "      <td>3</td>\n",
       "      <td>0.926389</td>\n",
       "      <td>NaN</td>\n",
       "      <td>NaN</td>\n",
       "      <td>NaN</td>\n",
       "      <td>NaN</td>\n",
       "    </tr>\n",
       "    <tr>\n",
       "      <th>2</th>\n",
       "      <td>Ashim</td>\n",
       "      <td>RaceType.HORSE_RACE</td>\n",
       "      <td>AUS</td>\n",
       "      <td>10.00</td>\n",
       "      <td>9.890756</td>\n",
       "      <td>32001844</td>\n",
       "      <td>Stawell</td>\n",
       "      <td>6</td>\n",
       "      <td>0.989076</td>\n",
       "      <td>NaN</td>\n",
       "      <td>NaN</td>\n",
       "      <td>NaN</td>\n",
       "      <td>NaN</td>\n",
       "    </tr>\n",
       "    <tr>\n",
       "      <th>3</th>\n",
       "      <td>Baby Thor</td>\n",
       "      <td>RaceType.GREYHOUND_RACE</td>\n",
       "      <td>AUS</td>\n",
       "      <td>5.00</td>\n",
       "      <td>4.690909</td>\n",
       "      <td>32004101</td>\n",
       "      <td>Rockhampton</td>\n",
       "      <td>9</td>\n",
       "      <td>0.938182</td>\n",
       "      <td>NaN</td>\n",
       "      <td>NaN</td>\n",
       "      <td>NaN</td>\n",
       "      <td>NaN</td>\n",
       "    </tr>\n",
       "    <tr>\n",
       "      <th>4</th>\n",
       "      <td>Baptiste</td>\n",
       "      <td>RaceType.GREYHOUND_RACE</td>\n",
       "      <td>AUS</td>\n",
       "      <td>2.25</td>\n",
       "      <td>2.393750</td>\n",
       "      <td>32004267</td>\n",
       "      <td>Addington</td>\n",
       "      <td>3</td>\n",
       "      <td>1.063889</td>\n",
       "      <td>NaN</td>\n",
       "      <td>NaN</td>\n",
       "      <td>NaN</td>\n",
       "      <td>NaN</td>\n",
       "    </tr>\n",
       "  </tbody>\n",
       "</table>\n",
       "</div>"
      ],
      "text/plain": [
       "            Horse                     Type Location  Price  Midpoint Price  \\\n",
       "0   Becks Monelli  RaceType.GREYHOUND_RACE      AUS   1.55        1.548889   \n",
       "1  Americas Woman      RaceType.HORSE_RACE      USA   8.00        7.411111   \n",
       "2           Ashim      RaceType.HORSE_RACE      AUS  10.00        9.890756   \n",
       "3       Baby Thor  RaceType.GREYHOUND_RACE      AUS   5.00        4.690909   \n",
       "4        Baptiste  RaceType.GREYHOUND_RACE      AUS   2.25        2.393750   \n",
       "\n",
       "   EVENT_ID         Venue Race Number  Midpoint Percentage  index EVENT_DT  \\\n",
       "0  32001967    Angle Park           4             0.999283    NaN      NaN   \n",
       "1  32003101  Charles Town           3             0.926389    NaN      NaN   \n",
       "2  32001844       Stawell           6             0.989076    NaN      NaN   \n",
       "3  32004101   Rockhampton           9             0.938182    NaN      NaN   \n",
       "4  32004267     Addington           3             1.063889    NaN      NaN   \n",
       "\n",
       "   WIN_LOSE  BSP  \n",
       "0       NaN  NaN  \n",
       "1       NaN  NaN  \n",
       "2       NaN  NaN  \n",
       "3       NaN  NaN  \n",
       "4       NaN  NaN  "
      ]
     },
     "execution_count": 26,
     "metadata": {},
     "output_type": "execute_result"
    }
   ],
   "source": [
    "# let's left join the betfair_data dataframe with the all_bets, using the event_ID and horse as the joining column:\n",
    "data_df = all_bets.merge(betfair_data, how='left', on=['EVENT_ID', 'Horse'])\n",
    "print(data_df['BSP'].unique())\n",
    "data_df.head()"
   ]
  },
  {
   "cell_type": "code",
   "execution_count": 1,
   "metadata": {},
   "outputs": [
    {
     "ename": "NameError",
     "evalue": "name 'betfair_data' is not defined",
     "output_type": "error",
     "traceback": [
      "\u001b[1;31m---------------------------------------------------------------------------\u001b[0m",
      "\u001b[1;31mNameError\u001b[0m                                 Traceback (most recent call last)",
      "Cell \u001b[1;32mIn [1], line 1\u001b[0m\n\u001b[1;32m----> 1\u001b[0m betfair_data\u001b[39m.\u001b[39mHorse\u001b[39m.\u001b[39mdtype\n",
      "\u001b[1;31mNameError\u001b[0m: name 'betfair_data' is not defined"
     ]
    }
   ],
   "source": [
    "betfair_data.Horse.dtype"
   ]
  },
  {
   "cell_type": "code",
   "execution_count": 17,
   "metadata": {},
   "outputs": [
    {
     "name": "stdout",
     "output_type": "stream",
     "text": [
      "index                   object\n",
      "Horse                   object\n",
      "Type                    object\n",
      "Location                object\n",
      "Price                  float64\n",
      "Midpoint Price         float64\n",
      "EVENT_ID                 int32\n",
      "Venue                   object\n",
      "Race Number             object\n",
      "Midpoint Percentage    float64\n",
      "dtype: object\n",
      "EVENT_ID      int32\n",
      "EVENT_DT     object\n",
      "Horse        object\n",
      "WIN_LOSE      int64\n",
      "BSP         float64\n",
      "dtype: object\n"
     ]
    }
   ],
   "source": [
    "\n",
    "all_bets['Horse'] = all_bets['Horse'].to_string()\n",
    "print(all_bets.dtypes)\n",
    "print(betfair_data.dtypes)"
   ]
  },
  {
   "cell_type": "code",
   "execution_count": 40,
   "metadata": {},
   "outputs": [
    {
     "data": {
      "text/plain": [
       "[]"
      ]
     },
     "execution_count": 40,
     "metadata": {},
     "output_type": "execute_result"
    }
   ],
   "source": [
    "l1 = all_bets['EVENT_ID'].unique()\n",
    "l2 = betfair_data['EVENT_ID'].unique()\n",
    "[i for i in l1 if i in l2]"
   ]
  },
  {
   "cell_type": "code",
   "execution_count": 37,
   "metadata": {},
   "outputs": [
    {
     "data": {
      "text/plain": [
       "['Becks Monelli',\n",
       " 'Americas Woman',\n",
       " 'Baby Thor',\n",
       " 'Bigger Than Thorn',\n",
       " 'Blackpool Dill',\n",
       " 'Boxing On',\n",
       " 'Boy From Hill',\n",
       " 'Drunken Lullaby',\n",
       " 'Ellen Shannon',\n",
       " 'Gee Gee True Story',\n",
       " 'Komachi',\n",
       " 'Mitcham Xena',\n",
       " 'Next Stop',\n",
       " 'October Racketeer',\n",
       " 'Opawa Warrior',\n",
       " 'Red Fourteen',\n",
       " 'Roanne',\n",
       " 'Scarlet Bling',\n",
       " 'Shannonsideal',\n",
       " 'Sleepy Joe',\n",
       " 'Tulhurst Cuddles',\n",
       " 'Way Too Soft',\n",
       " 'Bend The Knee',\n",
       " 'Daytona',\n",
       " 'Gleefilly',\n",
       " 'Lektra Dish',\n",
       " 'Master Of Menace',\n",
       " 'Means Business',\n",
       " 'Midnight Rush',\n",
       " 'Obi',\n",
       " 'Orsetto',\n",
       " 'Sargent Kobe',\n",
       " 'Sebon Toe Less',\n",
       " 'Universal Playboy']"
      ]
     },
     "execution_count": 37,
     "metadata": {},
     "output_type": "execute_result"
    }
   ],
   "source": [
    "l1 = all_bets['Horse'].unique()\n",
    "l2 = betfair_data['Horse'].unique()\n",
    "[i for i in l1 if i in l2]"
   ]
  },
  {
   "cell_type": "code",
   "execution_count": null,
   "metadata": {},
   "outputs": [],
   "source": []
  },
  {
   "cell_type": "code",
   "execution_count": null,
   "metadata": {},
   "outputs": [],
   "source": []
  }
 ],
 "metadata": {
  "kernelspec": {
   "display_name": "Python 3",
   "language": "python",
   "name": "python3"
  },
  "language_info": {
   "codemirror_mode": {
    "name": "ipython",
    "version": 3
   },
   "file_extension": ".py",
   "mimetype": "text/x-python",
   "name": "python",
   "nbconvert_exporter": "python",
   "pygments_lexer": "ipython3",
   "version": "3.9.13"
  },
  "orig_nbformat": 4,
  "vscode": {
   "interpreter": {
    "hash": "df7e380dc4bd12358531d9bb750d42cf6bcb6b53243542dabce030e1bc638fb8"
   }
  }
 },
 "nbformat": 4,
 "nbformat_minor": 2
}
